{
 "cells": [
  {
   "cell_type": "code",
   "execution_count": 1,
   "id": "7417c9e4",
   "metadata": {},
   "outputs": [],
   "source": [
    "import pandas as pd"
   ]
  },
  {
   "cell_type": "code",
   "execution_count": null,
   "id": "7aaf61bd",
   "metadata": {},
   "outputs": [],
   "source": [
    "# merge the single and multi hop files for the gpu run:\n",
    "df = pd.read_csv(\"../output/raw_test_data/testset_pilot_100.csv\") # 50 without abstract'\n",
    "df1 = pd.read_csv(\"../output/raw_test_data/testset_split_00_100.csv\")  # 50 with abstract\n",
    "df2 = pd.read_csv(\"../output/raw_test_data/testset_split_01_100.csv\")  # 50 with abstract\n",
    "df3 = pd.read_csv(\"../output/raw_test_data/testset_split_02_100.csv\")  # 50 with abstract\n",
    "df4 = pd.read_csv(\"../output/raw_test_data/testset_split_03_22.csv\")  # 22 with abstract\n",
    "\n",
    "testset_merged = pd.concat([df,df1,df2,df3,df4])\n",
    "testset_merged.to_csv('../output/raw_test_data/split_testset_merged.csv', index = False)\n",
    "testset_merged"
   ]
  },
  {
   "cell_type": "markdown",
   "id": "19411d3b",
   "metadata": {},
   "source": [
    "annotated file created in excel manually, loaded below"
   ]
  },
  {
   "cell_type": "code",
   "execution_count": null,
   "id": "79c50bfe",
   "metadata": {},
   "outputs": [],
   "source": [
    "df = pd.read_csv(\"../output/raw_test_data/anno_split_testset_merged.csv\", sep = ';') \n",
    "df_filtered = df.loc[df['annotation'] == 1]\n",
    "df_filtered.to_csv(\"../output/filt_anno_split_testset_merged.csv\", index = False)\n",
    "df_filtered"
   ]
  },
  {
   "cell_type": "code",
   "execution_count": null,
   "id": "e665272b",
   "metadata": {},
   "outputs": [],
   "source": []
  }
 ],
 "metadata": {
  "kernelspec": {
   "display_name": ".venv",
   "language": "python",
   "name": "python3"
  },
  "language_info": {
   "codemirror_mode": {
    "name": "ipython",
    "version": 3
   },
   "file_extension": ".py",
   "mimetype": "text/x-python",
   "name": "python",
   "nbconvert_exporter": "python",
   "pygments_lexer": "ipython3",
   "version": "3.12.3"
  }
 },
 "nbformat": 4,
 "nbformat_minor": 5
}
